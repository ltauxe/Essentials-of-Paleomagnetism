{
 "cells": [
  {
   "cell_type": "code",
   "execution_count": 1,
   "metadata": {},
   "outputs": [],
   "source": [
    "import matplotlib.pylab as plt\n",
    "import numpy as np\n"
   ]
  },
  {
   "cell_type": "markdown",
   "metadata": {},
   "source": [
    "Make wireframe diagram of energies in magnetite crystal\n"
   ]
  },
  {
   "cell_type": "code",
   "execution_count": 38,
   "metadata": {},
   "outputs": [],
   "source": [
    "thetas=np.arange(0,90,10)\n",
    "phis=np.arange(0,90,10)\n",
    "alphas = lambda t,p : [np.cos(t)*np.cos(p),np.sin(p),np.sin(t)*np.cos(p)]\n",
    "t,p=np.meshgrid(np.radians(thetas),np.radians(phis))\n",
    "\n",
    "a_i=alphas(t,p)\n",
    "K1,K2=-1.35,-.35\n",
    "aniso_energy = lambda K1,K2,a_i : (K1*(a_i[0]**2*a_i[1]**2+a_i[1]**2*a_i[2]**2+a_i[2]**2*a_i[0]**2)+\\\n",
    "           K2*(a_i[0]**2*a_i[1]**2*a_i[2]**2))\n",
    "\n",
    "ea=aniso_energy(K1,K2,a_i)\n"
   ]
  },
  {
   "cell_type": "code",
   "execution_count": 40,
   "metadata": {},
   "outputs": [
    {
     "data": {
      "text/plain": [
       "(9, 9)"
      ]
     },
     "execution_count": 40,
     "metadata": {},
     "output_type": "execute_result"
    }
   ],
   "source": [
    "ea.shape"
   ]
  },
  {
   "cell_type": "code",
   "execution_count": null,
   "metadata": {},
   "outputs": [],
   "source": [
    "%matplotlib notebook  \n",
    "fig=plt.figure(4,(8,5)) # make a figure object\n",
    "ax=Axes3D(fig) # give it the powers of an Axes3D object\n",
    "surf=ax.plot_wireframe(X,Y,g) # use plot_wireframe to do the plot.\n",
    "ax.set_xlabel('X') # and label the axes\n",
    "ax.set_ylabel('Y')\n",
    "ax.set_zlabel('Z')"
   ]
  }
 ],
 "metadata": {
  "kernelspec": {
   "display_name": "Python 3",
   "language": "python",
   "name": "python3"
  },
  "language_info": {
   "codemirror_mode": {
    "name": "ipython",
    "version": 3
   },
   "file_extension": ".py",
   "mimetype": "text/x-python",
   "name": "python",
   "nbconvert_exporter": "python",
   "pygments_lexer": "ipython3",
   "version": "3.6.7"
  }
 },
 "nbformat": 4,
 "nbformat_minor": 2
}
